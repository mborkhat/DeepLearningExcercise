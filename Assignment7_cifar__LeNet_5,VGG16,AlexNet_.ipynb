{
  "nbformat": 4,
  "nbformat_minor": 0,
  "metadata": {
    "colab": {
      "name": "Assignment7 -cifar- _LeNet_5,VGG16,AlexNet .ipynb",
      "provenance": [],
      "authorship_tag": "ABX9TyM4JCYR6mjCjm50tRd0F8O4",
      "include_colab_link": true
    },
    "kernelspec": {
      "name": "python3",
      "display_name": "Python 3"
    },
    "accelerator": "GPU"
  },
  "cells": [
    {
      "cell_type": "markdown",
      "metadata": {
        "id": "view-in-github",
        "colab_type": "text"
      },
      "source": [
        "<a href=\"https://colab.research.google.com/github/mborkhat/DeepLearningExcercise/blob/master/Assignment7_cifar__LeNet_5%2CVGG16%2CAlexNet_.ipynb\" target=\"_parent\"><img src=\"https://colab.research.google.com/assets/colab-badge.svg\" alt=\"Open In Colab\"/></a>"
      ]
    },
    {
      "cell_type": "code",
      "metadata": {
        "id": "XJbDhcCTgrrx",
        "colab_type": "code",
        "colab": {
          "base_uri": "https://localhost:8080/",
          "height": 123
        },
        "outputId": "090bfc37-7c07-4fb3-b8b7-23f4044f0447"
      },
      "source": [
        "\n",
        "import keras\n",
        "from keras.datasets import cifar10\n",
        "import numpy as np\n",
        "from keras.utils import to_categorical\n",
        "from keras.models import Sequential\n",
        "from keras.layers import Conv2D, MaxPooling2D, Flatten, Dense, AveragePooling2D, Dropout\n",
        "from keras.optimizers import SGD\n",
        "\n",
        "(x_train,y_train),(x_test,y_test)=cifar10.load_data()\n",
        "\n",
        "print(x_train.shape)\n",
        "print(y_train.shape)\n",
        "print(x_test.shape)\n",
        "print(y_test.shape)\n",
        "\n",
        "x_train=x_train.astype('float32')\n",
        "x_test=x_test.astype('float32')\n",
        "# Normalize pixel values to be between 0 and 1\n",
        "x_train,x_test=x_train/255.0,x_test/255.0\n",
        "\n",
        "y_train=to_categorical(y_train,10)\n",
        "y_test=to_categorical(y_test,10)"
      ],
      "execution_count": 3,
      "outputs": [
        {
          "output_type": "stream",
          "text": [
            "Downloading data from https://www.cs.toronto.edu/~kriz/cifar-10-python.tar.gz\n",
            "170500096/170498071 [==============================] - 4s 0us/step\n",
            "(50000, 32, 32, 3)\n",
            "(50000, 1)\n",
            "(10000, 32, 32, 3)\n",
            "(10000, 1)\n"
          ],
          "name": "stdout"
        }
      ]
    },
    {
      "cell_type": "markdown",
      "metadata": {
        "id": "cA6SOLYSgz_Q",
        "colab_type": "text"
      },
      "source": [
        "LeNET5"
      ]
    },
    {
      "cell_type": "code",
      "metadata": {
        "id": "BBv5ciPXgs8T",
        "colab_type": "code",
        "colab": {}
      },
      "source": [
        "classifier=Sequential()\n",
        "classifier.add(Conv2D(filters=6,kernel_size=(5,5),strides=(1,1),activation=\"sigmoid\",input_shape=(32,32,3)))\n",
        "classifier.add(MaxPooling2D(pool_size=(2,2)))\n",
        "classifier.add(Conv2D(filters=16,kernel_size=(5,5),strides=(1,1),activation=\"sigmoid\"))\n",
        "classifier.add(MaxPooling2D(pool_size=(2,2)))\n",
        "classifier.add(Flatten())\n",
        "classifier.add(Dense(units=120,activation='sigmoid'))\n",
        "classifier.add(Dense(units=84,activation='sigmoid'))\n",
        "classifier.add(Dense(units=10,activation='softmax'))\n",
        "\n",
        "classifier.compile(loss='mse',metrics=['accuracy'],optimizer='adam')"
      ],
      "execution_count": 4,
      "outputs": []
    },
    {
      "cell_type": "code",
      "metadata": {
        "id": "iU5uVtymhOC5",
        "colab_type": "code",
        "colab": {
          "base_uri": "https://localhost:8080/",
          "height": 443
        },
        "outputId": "e07ee16d-9c37-4057-f1b4-b8c006b5052e"
      },
      "source": [
        "classifier.summary()"
      ],
      "execution_count": 6,
      "outputs": [
        {
          "output_type": "stream",
          "text": [
            "Model: \"sequential_1\"\n",
            "_________________________________________________________________\n",
            "Layer (type)                 Output Shape              Param #   \n",
            "=================================================================\n",
            "conv2d_2 (Conv2D)            (None, 28, 28, 6)         456       \n",
            "_________________________________________________________________\n",
            "max_pooling2d_2 (MaxPooling2 (None, 14, 14, 6)         0         \n",
            "_________________________________________________________________\n",
            "conv2d_3 (Conv2D)            (None, 10, 10, 16)        2416      \n",
            "_________________________________________________________________\n",
            "max_pooling2d_3 (MaxPooling2 (None, 5, 5, 16)          0         \n",
            "_________________________________________________________________\n",
            "flatten_1 (Flatten)          (None, 400)               0         \n",
            "_________________________________________________________________\n",
            "dense_3 (Dense)              (None, 120)               48120     \n",
            "_________________________________________________________________\n",
            "dense_4 (Dense)              (None, 84)                10164     \n",
            "_________________________________________________________________\n",
            "dense_5 (Dense)              (None, 10)                850       \n",
            "=================================================================\n",
            "Total params: 62,006\n",
            "Trainable params: 62,006\n",
            "Non-trainable params: 0\n",
            "_________________________________________________________________\n"
          ],
          "name": "stdout"
        }
      ]
    },
    {
      "cell_type": "code",
      "metadata": {
        "id": "AC_DaIlKhVfe",
        "colab_type": "code",
        "colab": {
          "base_uri": "https://localhost:8080/",
          "height": 1000
        },
        "outputId": "2c6aa0b3-684a-4583-9a79-8f5697b28c59"
      },
      "source": [
        "classifier.fit(x_train,y_train,epochs=100,batch_size=32,steps_per_epoch=30,validation_split=0.2)"
      ],
      "execution_count": 8,
      "outputs": [
        {
          "output_type": "stream",
          "text": [
            "Epoch 1/100\n",
            "30/30 [==============================] - 4s 144ms/step - loss: 0.0790 - accuracy: 0.3240 - val_loss: 0.0800 - val_accuracy: 0.3090\n",
            "Epoch 2/100\n",
            "30/30 [==============================] - 4s 142ms/step - loss: 0.0798 - accuracy: 0.3344 - val_loss: 0.0791 - val_accuracy: 0.3326\n",
            "Epoch 3/100\n",
            "30/30 [==============================] - 4s 144ms/step - loss: 0.0788 - accuracy: 0.3667 - val_loss: 0.0790 - val_accuracy: 0.3288\n",
            "Epoch 4/100\n",
            "30/30 [==============================] - 4s 144ms/step - loss: 0.0786 - accuracy: 0.3427 - val_loss: 0.0788 - val_accuracy: 0.3288\n",
            "Epoch 5/100\n",
            "30/30 [==============================] - 4s 144ms/step - loss: 0.0785 - accuracy: 0.3281 - val_loss: 0.0790 - val_accuracy: 0.3313\n",
            "Epoch 6/100\n",
            "30/30 [==============================] - 4s 144ms/step - loss: 0.0789 - accuracy: 0.3187 - val_loss: 0.0785 - val_accuracy: 0.3411\n",
            "Epoch 7/100\n",
            "30/30 [==============================] - 4s 143ms/step - loss: 0.0801 - accuracy: 0.3156 - val_loss: 0.0794 - val_accuracy: 0.3227\n",
            "Epoch 8/100\n",
            "30/30 [==============================] - 4s 143ms/step - loss: 0.0804 - accuracy: 0.3042 - val_loss: 0.0783 - val_accuracy: 0.3436\n",
            "Epoch 9/100\n",
            "30/30 [==============================] - 4s 144ms/step - loss: 0.0778 - accuracy: 0.3406 - val_loss: 0.0786 - val_accuracy: 0.3298\n",
            "Epoch 10/100\n",
            "30/30 [==============================] - 4s 143ms/step - loss: 0.0777 - accuracy: 0.3448 - val_loss: 0.0789 - val_accuracy: 0.3328\n",
            "Epoch 11/100\n",
            "30/30 [==============================] - 4s 141ms/step - loss: 0.0793 - accuracy: 0.3187 - val_loss: 0.0782 - val_accuracy: 0.3382\n",
            "Epoch 12/100\n",
            "30/30 [==============================] - 4s 143ms/step - loss: 0.0775 - accuracy: 0.3354 - val_loss: 0.0782 - val_accuracy: 0.3369\n",
            "Epoch 13/100\n",
            "30/30 [==============================] - 4s 143ms/step - loss: 0.0773 - accuracy: 0.3583 - val_loss: 0.0782 - val_accuracy: 0.3413\n",
            "Epoch 14/100\n",
            "30/30 [==============================] - 4s 143ms/step - loss: 0.0790 - accuracy: 0.3479 - val_loss: 0.0787 - val_accuracy: 0.3346\n",
            "Epoch 15/100\n",
            "30/30 [==============================] - 4s 144ms/step - loss: 0.0789 - accuracy: 0.3385 - val_loss: 0.0779 - val_accuracy: 0.3430\n",
            "Epoch 16/100\n",
            "30/30 [==============================] - 4s 143ms/step - loss: 0.0781 - accuracy: 0.3375 - val_loss: 0.0782 - val_accuracy: 0.3379\n",
            "Epoch 17/100\n",
            "30/30 [==============================] - 4s 144ms/step - loss: 0.0787 - accuracy: 0.3365 - val_loss: 0.0778 - val_accuracy: 0.3447\n",
            "Epoch 18/100\n",
            "30/30 [==============================] - 4s 144ms/step - loss: 0.0780 - accuracy: 0.3417 - val_loss: 0.0787 - val_accuracy: 0.3294\n",
            "Epoch 19/100\n",
            "30/30 [==============================] - 4s 143ms/step - loss: 0.0780 - accuracy: 0.3427 - val_loss: 0.0773 - val_accuracy: 0.3580\n",
            "Epoch 20/100\n",
            "30/30 [==============================] - 4s 144ms/step - loss: 0.0770 - accuracy: 0.3354 - val_loss: 0.0776 - val_accuracy: 0.3495\n",
            "Epoch 21/100\n",
            "30/30 [==============================] - 4s 143ms/step - loss: 0.0781 - accuracy: 0.3406 - val_loss: 0.0773 - val_accuracy: 0.3482\n",
            "Epoch 22/100\n",
            "30/30 [==============================] - 4s 143ms/step - loss: 0.0764 - accuracy: 0.3521 - val_loss: 0.0778 - val_accuracy: 0.3371\n",
            "Epoch 23/100\n",
            "30/30 [==============================] - 4s 145ms/step - loss: 0.0771 - accuracy: 0.3500 - val_loss: 0.0778 - val_accuracy: 0.3470\n",
            "Epoch 24/100\n",
            "30/30 [==============================] - 4s 143ms/step - loss: 0.0776 - accuracy: 0.3458 - val_loss: 0.0770 - val_accuracy: 0.3628\n",
            "Epoch 25/100\n",
            "30/30 [==============================] - 4s 142ms/step - loss: 0.0754 - accuracy: 0.3802 - val_loss: 0.0771 - val_accuracy: 0.3503\n",
            "Epoch 26/100\n",
            "30/30 [==============================] - 4s 142ms/step - loss: 0.0749 - accuracy: 0.3833 - val_loss: 0.0771 - val_accuracy: 0.3509\n",
            "Epoch 27/100\n",
            "30/30 [==============================] - 4s 144ms/step - loss: 0.0766 - accuracy: 0.3385 - val_loss: 0.0776 - val_accuracy: 0.3485\n",
            "Epoch 28/100\n",
            "30/30 [==============================] - 4s 144ms/step - loss: 0.0760 - accuracy: 0.3646 - val_loss: 0.0766 - val_accuracy: 0.3599\n",
            "Epoch 29/100\n",
            "30/30 [==============================] - 4s 142ms/step - loss: 0.0778 - accuracy: 0.3438 - val_loss: 0.0770 - val_accuracy: 0.3547\n",
            "Epoch 30/100\n",
            "30/30 [==============================] - 4s 144ms/step - loss: 0.0768 - accuracy: 0.3542 - val_loss: 0.0771 - val_accuracy: 0.3567\n",
            "Epoch 31/100\n",
            "30/30 [==============================] - 4s 141ms/step - loss: 0.0779 - accuracy: 0.3427 - val_loss: 0.0771 - val_accuracy: 0.3509\n",
            "Epoch 32/100\n",
            "30/30 [==============================] - 4s 143ms/step - loss: 0.0766 - accuracy: 0.3688 - val_loss: 0.0766 - val_accuracy: 0.3613\n",
            "Epoch 33/100\n",
            "30/30 [==============================] - 4s 143ms/step - loss: 0.0774 - accuracy: 0.3354 - val_loss: 0.0766 - val_accuracy: 0.3662\n",
            "Epoch 34/100\n",
            "30/30 [==============================] - 4s 145ms/step - loss: 0.0762 - accuracy: 0.3646 - val_loss: 0.0760 - val_accuracy: 0.3689\n",
            "Epoch 35/100\n",
            "30/30 [==============================] - 4s 144ms/step - loss: 0.0773 - accuracy: 0.3677 - val_loss: 0.0765 - val_accuracy: 0.3599\n",
            "Epoch 36/100\n",
            "30/30 [==============================] - 4s 143ms/step - loss: 0.0773 - accuracy: 0.3510 - val_loss: 0.0771 - val_accuracy: 0.3555\n",
            "Epoch 37/100\n",
            "30/30 [==============================] - 4s 144ms/step - loss: 0.0766 - accuracy: 0.3615 - val_loss: 0.0763 - val_accuracy: 0.3682\n",
            "Epoch 38/100\n",
            "30/30 [==============================] - 4s 141ms/step - loss: 0.0744 - accuracy: 0.3854 - val_loss: 0.0764 - val_accuracy: 0.3600\n",
            "Epoch 39/100\n",
            "30/30 [==============================] - 4s 143ms/step - loss: 0.0754 - accuracy: 0.3708 - val_loss: 0.0762 - val_accuracy: 0.3664\n",
            "Epoch 40/100\n",
            "30/30 [==============================] - 4s 143ms/step - loss: 0.0766 - accuracy: 0.3729 - val_loss: 0.0765 - val_accuracy: 0.3612\n",
            "Epoch 41/100\n",
            "30/30 [==============================] - 4s 142ms/step - loss: 0.0741 - accuracy: 0.3875 - val_loss: 0.0758 - val_accuracy: 0.3712\n",
            "Epoch 42/100\n",
            "30/30 [==============================] - 4s 144ms/step - loss: 0.0753 - accuracy: 0.3688 - val_loss: 0.0764 - val_accuracy: 0.3655\n",
            "Epoch 43/100\n",
            "30/30 [==============================] - 4s 142ms/step - loss: 0.0779 - accuracy: 0.3417 - val_loss: 0.0782 - val_accuracy: 0.3397\n",
            "Epoch 44/100\n",
            "30/30 [==============================] - 4s 143ms/step - loss: 0.0764 - accuracy: 0.3604 - val_loss: 0.0753 - val_accuracy: 0.3722\n",
            "Epoch 45/100\n",
            "30/30 [==============================] - 4s 143ms/step - loss: 0.0756 - accuracy: 0.3708 - val_loss: 0.0761 - val_accuracy: 0.3670\n",
            "Epoch 46/100\n",
            "30/30 [==============================] - 4s 144ms/step - loss: 0.0742 - accuracy: 0.3917 - val_loss: 0.0758 - val_accuracy: 0.3670\n",
            "Epoch 47/100\n",
            "30/30 [==============================] - 4s 142ms/step - loss: 0.0743 - accuracy: 0.3875 - val_loss: 0.0753 - val_accuracy: 0.3771\n",
            "Epoch 48/100\n",
            "30/30 [==============================] - 4s 143ms/step - loss: 0.0760 - accuracy: 0.3562 - val_loss: 0.0751 - val_accuracy: 0.3805\n",
            "Epoch 49/100\n",
            "30/30 [==============================] - 4s 143ms/step - loss: 0.0758 - accuracy: 0.3865 - val_loss: 0.0753 - val_accuracy: 0.3753\n",
            "Epoch 50/100\n",
            "30/30 [==============================] - 4s 142ms/step - loss: 0.0769 - accuracy: 0.3438 - val_loss: 0.0752 - val_accuracy: 0.3756\n",
            "Epoch 51/100\n",
            "30/30 [==============================] - 4s 142ms/step - loss: 0.0757 - accuracy: 0.3760 - val_loss: 0.0762 - val_accuracy: 0.3570\n",
            "Epoch 52/100\n",
            "30/30 [==============================] - 4s 144ms/step - loss: 0.0744 - accuracy: 0.3844 - val_loss: 0.0753 - val_accuracy: 0.3750\n",
            "Epoch 53/100\n",
            "30/30 [==============================] - 4s 143ms/step - loss: 0.0749 - accuracy: 0.3729 - val_loss: 0.0745 - val_accuracy: 0.3848\n",
            "Epoch 54/100\n",
            "30/30 [==============================] - 4s 144ms/step - loss: 0.0755 - accuracy: 0.3719 - val_loss: 0.0752 - val_accuracy: 0.3809\n",
            "Epoch 55/100\n",
            "30/30 [==============================] - 4s 145ms/step - loss: 0.0742 - accuracy: 0.3875 - val_loss: 0.0749 - val_accuracy: 0.3724\n",
            "Epoch 56/100\n",
            "30/30 [==============================] - 4s 144ms/step - loss: 0.0743 - accuracy: 0.3750 - val_loss: 0.0752 - val_accuracy: 0.3789\n",
            "Epoch 57/100\n",
            "30/30 [==============================] - 4s 142ms/step - loss: 0.0745 - accuracy: 0.3917 - val_loss: 0.0745 - val_accuracy: 0.3837\n",
            "Epoch 58/100\n",
            "30/30 [==============================] - 4s 141ms/step - loss: 0.0741 - accuracy: 0.3885 - val_loss: 0.0755 - val_accuracy: 0.3718\n",
            "Epoch 59/100\n",
            "30/30 [==============================] - 4s 142ms/step - loss: 0.0753 - accuracy: 0.3781 - val_loss: 0.0745 - val_accuracy: 0.3854\n",
            "Epoch 60/100\n",
            "30/30 [==============================] - 4s 142ms/step - loss: 0.0739 - accuracy: 0.3990 - val_loss: 0.0742 - val_accuracy: 0.3912\n",
            "Epoch 61/100\n",
            "30/30 [==============================] - 4s 143ms/step - loss: 0.0746 - accuracy: 0.3896 - val_loss: 0.0743 - val_accuracy: 0.3939\n",
            "Epoch 62/100\n",
            "30/30 [==============================] - 4s 142ms/step - loss: 0.0743 - accuracy: 0.3969 - val_loss: 0.0738 - val_accuracy: 0.3918\n",
            "Epoch 63/100\n",
            "30/30 [==============================] - 4s 142ms/step - loss: 0.0743 - accuracy: 0.3823 - val_loss: 0.0737 - val_accuracy: 0.3980\n",
            "Epoch 64/100\n",
            "30/30 [==============================] - 4s 143ms/step - loss: 0.0743 - accuracy: 0.3969 - val_loss: 0.0735 - val_accuracy: 0.3972\n",
            "Epoch 65/100\n",
            "30/30 [==============================] - 4s 142ms/step - loss: 0.0744 - accuracy: 0.3938 - val_loss: 0.0737 - val_accuracy: 0.3984\n",
            "Epoch 66/100\n",
            "30/30 [==============================] - 4s 143ms/step - loss: 0.0720 - accuracy: 0.4083 - val_loss: 0.0734 - val_accuracy: 0.3940\n",
            "Epoch 67/100\n",
            "30/30 [==============================] - 4s 142ms/step - loss: 0.0721 - accuracy: 0.4094 - val_loss: 0.0741 - val_accuracy: 0.3837\n",
            "Epoch 68/100\n",
            "30/30 [==============================] - 4s 142ms/step - loss: 0.0746 - accuracy: 0.3833 - val_loss: 0.0740 - val_accuracy: 0.3895\n",
            "Epoch 69/100\n",
            "30/30 [==============================] - 4s 143ms/step - loss: 0.0732 - accuracy: 0.4010 - val_loss: 0.0739 - val_accuracy: 0.3898\n",
            "Epoch 70/100\n",
            "30/30 [==============================] - 4s 141ms/step - loss: 0.0718 - accuracy: 0.4062 - val_loss: 0.0744 - val_accuracy: 0.3871\n",
            "Epoch 71/100\n",
            "30/30 [==============================] - 4s 141ms/step - loss: 0.0720 - accuracy: 0.4094 - val_loss: 0.0726 - val_accuracy: 0.4084\n",
            "Epoch 72/100\n",
            "30/30 [==============================] - 4s 142ms/step - loss: 0.0717 - accuracy: 0.4208 - val_loss: 0.0730 - val_accuracy: 0.4012\n",
            "Epoch 73/100\n",
            "30/30 [==============================] - 4s 141ms/step - loss: 0.0728 - accuracy: 0.4052 - val_loss: 0.0730 - val_accuracy: 0.4035\n",
            "Epoch 74/100\n",
            "30/30 [==============================] - 4s 143ms/step - loss: 0.0718 - accuracy: 0.4240 - val_loss: 0.0746 - val_accuracy: 0.3840\n",
            "Epoch 75/100\n",
            "30/30 [==============================] - 4s 142ms/step - loss: 0.0739 - accuracy: 0.3885 - val_loss: 0.0723 - val_accuracy: 0.4078\n",
            "Epoch 76/100\n",
            "30/30 [==============================] - 4s 143ms/step - loss: 0.0723 - accuracy: 0.4010 - val_loss: 0.0734 - val_accuracy: 0.3977\n",
            "Epoch 77/100\n",
            "30/30 [==============================] - 5s 153ms/step - loss: 0.0738 - accuracy: 0.3927 - val_loss: 0.0725 - val_accuracy: 0.4050\n",
            "Epoch 78/100\n",
            "30/30 [==============================] - 4s 143ms/step - loss: 0.0722 - accuracy: 0.4292 - val_loss: 0.0731 - val_accuracy: 0.4024\n",
            "Epoch 79/100\n",
            "30/30 [==============================] - 4s 143ms/step - loss: 0.0730 - accuracy: 0.4031 - val_loss: 0.0724 - val_accuracy: 0.4077\n",
            "Epoch 80/100\n",
            "30/30 [==============================] - 4s 143ms/step - loss: 0.0715 - accuracy: 0.4031 - val_loss: 0.0723 - val_accuracy: 0.4094\n",
            "Epoch 81/100\n",
            "30/30 [==============================] - 4s 142ms/step - loss: 0.0731 - accuracy: 0.4083 - val_loss: 0.0723 - val_accuracy: 0.4055\n",
            "Epoch 82/100\n",
            "30/30 [==============================] - 4s 143ms/step - loss: 0.0723 - accuracy: 0.4021 - val_loss: 0.0728 - val_accuracy: 0.4027\n",
            "Epoch 83/100\n",
            "30/30 [==============================] - 4s 141ms/step - loss: 0.0711 - accuracy: 0.4198 - val_loss: 0.0724 - val_accuracy: 0.4037\n",
            "Epoch 84/100\n",
            "30/30 [==============================] - 4s 142ms/step - loss: 0.0705 - accuracy: 0.4344 - val_loss: 0.0727 - val_accuracy: 0.4011\n",
            "Epoch 85/100\n",
            "30/30 [==============================] - 4s 143ms/step - loss: 0.0725 - accuracy: 0.4115 - val_loss: 0.0715 - val_accuracy: 0.4215\n",
            "Epoch 86/100\n",
            "30/30 [==============================] - 4s 142ms/step - loss: 0.0713 - accuracy: 0.4042 - val_loss: 0.0724 - val_accuracy: 0.4099\n",
            "Epoch 87/100\n",
            "30/30 [==============================] - 4s 142ms/step - loss: 0.0709 - accuracy: 0.4021 - val_loss: 0.0718 - val_accuracy: 0.4119\n",
            "Epoch 88/100\n",
            "30/30 [==============================] - 4s 143ms/step - loss: 0.0720 - accuracy: 0.4260 - val_loss: 0.0726 - val_accuracy: 0.4057\n",
            "Epoch 89/100\n",
            "30/30 [==============================] - 4s 143ms/step - loss: 0.0716 - accuracy: 0.4198 - val_loss: 0.0716 - val_accuracy: 0.4180\n",
            "Epoch 90/100\n",
            "30/30 [==============================] - 4s 141ms/step - loss: 0.0713 - accuracy: 0.4208 - val_loss: 0.0728 - val_accuracy: 0.3978\n",
            "Epoch 91/100\n",
            "30/30 [==============================] - 4s 142ms/step - loss: 0.0716 - accuracy: 0.4125 - val_loss: 0.0725 - val_accuracy: 0.4059\n",
            "Epoch 92/100\n",
            "30/30 [==============================] - 4s 141ms/step - loss: 0.0717 - accuracy: 0.4042 - val_loss: 0.0734 - val_accuracy: 0.4025\n",
            "Epoch 93/100\n",
            "30/30 [==============================] - 4s 143ms/step - loss: 0.0719 - accuracy: 0.4094 - val_loss: 0.0713 - val_accuracy: 0.4213\n",
            "Epoch 94/100\n",
            "30/30 [==============================] - 4s 143ms/step - loss: 0.0713 - accuracy: 0.4052 - val_loss: 0.0720 - val_accuracy: 0.4128\n",
            "Epoch 95/100\n",
            "30/30 [==============================] - 4s 142ms/step - loss: 0.0727 - accuracy: 0.3958 - val_loss: 0.0711 - val_accuracy: 0.4232\n",
            "Epoch 96/100\n",
            "30/30 [==============================] - 4s 143ms/step - loss: 0.0699 - accuracy: 0.4198 - val_loss: 0.0717 - val_accuracy: 0.4157\n",
            "Epoch 97/100\n",
            "30/30 [==============================] - 4s 143ms/step - loss: 0.0720 - accuracy: 0.4010 - val_loss: 0.0708 - val_accuracy: 0.4303\n",
            "Epoch 98/100\n",
            "30/30 [==============================] - 4s 143ms/step - loss: 0.0708 - accuracy: 0.4198 - val_loss: 0.0711 - val_accuracy: 0.4247\n",
            "Epoch 99/100\n",
            "30/30 [==============================] - 4s 142ms/step - loss: 0.0711 - accuracy: 0.4198 - val_loss: 0.0725 - val_accuracy: 0.4103\n",
            "Epoch 100/100\n",
            "30/30 [==============================] - 4s 143ms/step - loss: 0.0719 - accuracy: 0.4156 - val_loss: 0.0719 - val_accuracy: 0.4123\n"
          ],
          "name": "stdout"
        },
        {
          "output_type": "execute_result",
          "data": {
            "text/plain": [
              "<tensorflow.python.keras.callbacks.History at 0x7f8d411b2f98>"
            ]
          },
          "metadata": {
            "tags": []
          },
          "execution_count": 8
        }
      ]
    },
    {
      "cell_type": "markdown",
      "metadata": {
        "id": "KE-O6gwthgv6",
        "colab_type": "text"
      },
      "source": [
        "VGG-16"
      ]
    },
    {
      "cell_type": "code",
      "metadata": {
        "id": "v9-vhXTUhbrZ",
        "colab_type": "code",
        "colab": {}
      },
      "source": [
        "model_vgg16=Sequential()\n",
        "\n",
        "model_vgg16.add(Conv2D(filters=64,kernel_size=(3,3),strides=(2,2),padding=\"same\",activation=\"relu\",input_shape=(32,32,3)))\n",
        "model_vgg16.add(Conv2D(filters=64,kernel_size=(3,3),strides=(2,2),padding=\"same\",activation=\"relu\"))\n",
        "model_vgg16.add(MaxPooling2D(pool_size=(2,2)))\n",
        "\n",
        "model_vgg16.add(Conv2D(filters=128,kernel_size=(3,3),strides=(2,2),padding=\"same\",activation=\"relu\"))\n",
        "model_vgg16.add(Conv2D(filters=128,kernel_size=(3,3),strides=(2,2),padding=\"same\",activation=\"relu\"))\n",
        "model_vgg16.add(MaxPooling2D(pool_size=(2,2),padding=\"same\"))\n",
        "\n",
        "model_vgg16.add(Conv2D(filters=256,kernel_size=(3,3),strides=(2,2),padding=\"same\",activation=\"relu\"))\n",
        "model_vgg16.add(Conv2D(filters=256,kernel_size=(3,3),strides=(2,2),padding=\"same\",activation=\"relu\"))\n",
        "model_vgg16.add(Conv2D(filters=256,kernel_size=(3,3),strides=(2,2),padding=\"same\",activation=\"relu\"))\n",
        "model_vgg16.add(MaxPooling2D(pool_size=(2,2),padding=\"same\"))\n",
        "\n",
        "model_vgg16.add(Conv2D(filters=512,kernel_size=(3,3),strides=(1,1),padding=\"same\",activation=\"relu\"))\n",
        "model_vgg16.add(Conv2D(filters=512,kernel_size=(3,3),strides=(1,1),padding=\"same\",activation=\"relu\"))\n",
        "model_vgg16.add(Conv2D(filters=512,kernel_size=(3,3),strides=(1,1),padding=\"same\",activation=\"relu\"))\n",
        "model_vgg16.add(MaxPooling2D(pool_size=(2,2),padding=\"same\"))\n",
        "\n",
        "model_vgg16.add(Conv2D(filters=512,kernel_size=(3,3),strides=(1,1),padding=\"same\",activation=\"relu\"))\n",
        "model_vgg16.add(Conv2D(filters=512,kernel_size=(3,3),strides=(1,1),padding=\"same\",activation=\"relu\"))\n",
        "model_vgg16.add(Conv2D(filters=512,kernel_size=(3,3),strides=(1,1),padding=\"same\",activation=\"relu\"))\n",
        "model_vgg16.add(MaxPooling2D(pool_size=(2,2),padding=\"same\"))\n",
        "model_vgg16.add(Flatten())\n",
        "model_vgg16.add(Dense(units=128,activation='relu'))\n",
        "#model_vgg16.add(Dense(units=64,activation='relu'))\n",
        "model_vgg16.add(Dense(units=10,activation='softmax'))\n",
        "\n",
        "opt = SGD(lr = 0.01, momentum = 0.9)\n",
        "model_vgg16.compile(loss='categorical_crossentropy',metrics=['accuracy'],optimizer=opt)"
      ],
      "execution_count": 4,
      "outputs": []
    },
    {
      "cell_type": "code",
      "metadata": {
        "id": "lYRtOhU6h5Kz",
        "colab_type": "code",
        "colab": {
          "base_uri": "https://localhost:8080/",
          "height": 1000
        },
        "outputId": "95953d33-2784-47a9-a4ec-108bfd12ee2e"
      },
      "source": [
        "steps = int(x_train.shape[0] / 64)\n",
        "model_vgg16.fit(x_train,y_train,epochs=30,batch_size=32,steps_per_epoch=steps,validation_data=(x_test,y_test),verbose = 1)#,steps_per_epoch=1000\n"
      ],
      "execution_count": 5,
      "outputs": [
        {
          "output_type": "stream",
          "text": [
            "Epoch 1/30\n",
            "781/781 [==============================] - 17s 22ms/step - loss: 2.3034 - accuracy: 0.0958 - val_loss: 2.3035 - val_accuracy: 0.1000\n",
            "Epoch 2/30\n",
            "781/781 [==============================] - 17s 22ms/step - loss: 2.3036 - accuracy: 0.0969 - val_loss: 2.3030 - val_accuracy: 0.1000\n",
            "Epoch 3/30\n",
            "781/781 [==============================] - 17s 22ms/step - loss: 2.3035 - accuracy: 0.0959 - val_loss: 2.3031 - val_accuracy: 0.1000\n",
            "Epoch 4/30\n",
            "781/781 [==============================] - 17s 22ms/step - loss: 2.3036 - accuracy: 0.0986 - val_loss: 2.3029 - val_accuracy: 0.1000\n",
            "Epoch 5/30\n",
            "781/781 [==============================] - 17s 22ms/step - loss: 2.3032 - accuracy: 0.0998 - val_loss: 2.3030 - val_accuracy: 0.1000\n",
            "Epoch 6/30\n",
            "781/781 [==============================] - 17s 22ms/step - loss: 2.3034 - accuracy: 0.0996 - val_loss: 2.3028 - val_accuracy: 0.1000\n",
            "Epoch 7/30\n",
            "781/781 [==============================] - 17s 22ms/step - loss: 2.3033 - accuracy: 0.0993 - val_loss: 2.3032 - val_accuracy: 0.1000\n",
            "Epoch 8/30\n",
            "781/781 [==============================] - 17s 22ms/step - loss: 2.3034 - accuracy: 0.1028 - val_loss: 2.3030 - val_accuracy: 0.1000\n",
            "Epoch 9/30\n",
            "781/781 [==============================] - 17s 22ms/step - loss: 2.3032 - accuracy: 0.0969 - val_loss: 2.3030 - val_accuracy: 0.1000\n",
            "Epoch 10/30\n",
            "781/781 [==============================] - 17s 22ms/step - loss: 2.3034 - accuracy: 0.0992 - val_loss: 2.3034 - val_accuracy: 0.1000\n",
            "Epoch 11/30\n",
            "781/781 [==============================] - 17s 22ms/step - loss: 2.3032 - accuracy: 0.1025 - val_loss: 2.3030 - val_accuracy: 0.1000\n",
            "Epoch 12/30\n",
            "781/781 [==============================] - 17s 22ms/step - loss: 2.3032 - accuracy: 0.1033 - val_loss: 2.3035 - val_accuracy: 0.1000\n",
            "Epoch 13/30\n",
            "781/781 [==============================] - 17s 22ms/step - loss: 2.3035 - accuracy: 0.0989 - val_loss: 2.3027 - val_accuracy: 0.1000\n",
            "Epoch 14/30\n",
            "781/781 [==============================] - 17s 22ms/step - loss: 2.3034 - accuracy: 0.0986 - val_loss: 2.3030 - val_accuracy: 0.1000\n",
            "Epoch 15/30\n",
            "781/781 [==============================] - 17s 22ms/step - loss: 2.3033 - accuracy: 0.1004 - val_loss: 2.3033 - val_accuracy: 0.1000\n",
            "Epoch 16/30\n",
            "781/781 [==============================] - 17s 22ms/step - loss: 2.3035 - accuracy: 0.1002 - val_loss: 2.3032 - val_accuracy: 0.1000\n",
            "Epoch 17/30\n",
            "781/781 [==============================] - 17s 22ms/step - loss: 2.3030 - accuracy: 0.1049 - val_loss: 2.3041 - val_accuracy: 0.1000\n",
            "Epoch 18/30\n",
            "781/781 [==============================] - 17s 22ms/step - loss: 2.3035 - accuracy: 0.0984 - val_loss: 2.3031 - val_accuracy: 0.1000\n",
            "Epoch 19/30\n",
            "781/781 [==============================] - 17s 22ms/step - loss: 2.3032 - accuracy: 0.0991 - val_loss: 2.3034 - val_accuracy: 0.1000\n",
            "Epoch 20/30\n",
            "781/781 [==============================] - 17s 22ms/step - loss: 2.3034 - accuracy: 0.0980 - val_loss: 2.3030 - val_accuracy: 0.1000\n",
            "Epoch 21/30\n",
            "781/781 [==============================] - 17s 22ms/step - loss: 2.3035 - accuracy: 0.0993 - val_loss: 2.3034 - val_accuracy: 0.1000\n",
            "Epoch 22/30\n",
            "781/781 [==============================] - 17s 22ms/step - loss: 2.3035 - accuracy: 0.0962 - val_loss: 2.3027 - val_accuracy: 0.1000\n",
            "Epoch 23/30\n",
            "781/781 [==============================] - 17s 22ms/step - loss: 2.3031 - accuracy: 0.1023 - val_loss: 2.3038 - val_accuracy: 0.1000\n",
            "Epoch 24/30\n",
            "781/781 [==============================] - 17s 22ms/step - loss: 2.3033 - accuracy: 0.1023 - val_loss: 2.3032 - val_accuracy: 0.1000\n",
            "Epoch 25/30\n",
            "781/781 [==============================] - 17s 22ms/step - loss: 2.3036 - accuracy: 0.0979 - val_loss: 2.3028 - val_accuracy: 0.1000\n",
            "Epoch 26/30\n",
            "781/781 [==============================] - 17s 22ms/step - loss: 2.3034 - accuracy: 0.0970 - val_loss: 2.3030 - val_accuracy: 0.1000\n",
            "Epoch 27/30\n",
            "781/781 [==============================] - 17s 22ms/step - loss: 2.3032 - accuracy: 0.1005 - val_loss: 2.3036 - val_accuracy: 0.1000\n",
            "Epoch 28/30\n",
            "781/781 [==============================] - 17s 22ms/step - loss: 2.3034 - accuracy: 0.0994 - val_loss: 2.3029 - val_accuracy: 0.1000\n",
            "Epoch 29/30\n",
            "781/781 [==============================] - 17s 22ms/step - loss: 2.3033 - accuracy: 0.0997 - val_loss: 2.3034 - val_accuracy: 0.1000\n",
            "Epoch 30/30\n",
            "781/781 [==============================] - 17s 22ms/step - loss: 2.3033 - accuracy: 0.1003 - val_loss: 2.3035 - val_accuracy: 0.1000\n"
          ],
          "name": "stdout"
        },
        {
          "output_type": "execute_result",
          "data": {
            "text/plain": [
              "<tensorflow.python.keras.callbacks.History at 0x7f37203e9b38>"
            ]
          },
          "metadata": {
            "tags": []
          },
          "execution_count": 5
        }
      ]
    },
    {
      "cell_type": "markdown",
      "metadata": {
        "id": "RWHGOUL0iH1J",
        "colab_type": "text"
      },
      "source": [
        "AlexNet"
      ]
    },
    {
      "cell_type": "code",
      "metadata": {
        "id": "Nuj8VNoEiJMa",
        "colab_type": "code",
        "colab": {}
      },
      "source": [
        "model_alexnet=Sequential()\n",
        "\n",
        "model_alexnet.add(Conv2D(filters=96,kernel_size=(11,11),strides=(4,4),padding=\"same\",activation=\"relu\",input_shape=(32,32,3)))\n",
        "model_alexnet.add(MaxPooling2D(pool_size=(2,2), strides=(2,2), padding=\"valid\"))\n",
        "\n",
        "model_alexnet.add(Conv2D(filters=256,kernel_size=(11,11),strides=(1,1),padding=\"same\",activation=\"relu\"))\n",
        "model_alexnet.add(MaxPooling2D(pool_size=(2,2), strides=(2,2), padding=\"valid\"))\n",
        "\n",
        "model_alexnet.add(Conv2D(filters=384,kernel_size=(3,3),strides=(1,1),padding=\"same\",activation=\"relu\"))\n",
        "model_alexnet.add(Conv2D(filters=384,kernel_size=(3,3),strides=(1,1),padding=\"same\",activation=\"relu\"))\n",
        "model_alexnet.add(Conv2D(filters=256,kernel_size=(3,3),strides=(1,1),padding=\"same\",activation=\"relu\"))\n",
        "model_alexnet.add(MaxPooling2D(pool_size=(2,2), strides=(2,2), padding=\"valid\"))\n",
        "\n",
        "model_alexnet.add(Flatten())\n",
        "model_alexnet.add(Dense(units=4096,input_shape=(32*32*3,),activation='relu'))\n",
        "model_alexnet.add(Dropout(0.4))\n",
        "model_alexnet.add(Dense(units=4096,activation='relu'))\n",
        "model_alexnet.add(Dropout(0.4))\n",
        "model_alexnet.add(Dense(units=1000,activation='relu'))\n",
        "model_alexnet.add(Dropout(0.4))\n",
        "model_alexnet.add(Dense(units=10,activation='softmax'))\n",
        "\n",
        "#opt = SGD(lr = 0.001, momentum = 0.9)\n",
        "model_alexnet.compile(loss='categorical_crossentropy',metrics=['accuracy'],optimizer='adam')\n"
      ],
      "execution_count": 8,
      "outputs": []
    },
    {
      "cell_type": "code",
      "metadata": {
        "id": "GXZrqhqdiSUR",
        "colab_type": "code",
        "colab": {
          "base_uri": "https://localhost:8080/",
          "height": 1000
        },
        "outputId": "af7208ec-8f7a-481a-ae8b-a97370ec6879"
      },
      "source": [
        "steps = int(x_train.shape[0] / 64)\n",
        "model_alexnet.fit(x_train,y_train,epochs=30,batch_size=32,steps_per_epoch=100,validation_data=(x_test,y_test),verbose = 1)"
      ],
      "execution_count": 9,
      "outputs": [
        {
          "output_type": "stream",
          "text": [
            "Epoch 1/30\n",
            "100/100 [==============================] - 3s 30ms/step - loss: 2.3059 - accuracy: 0.0988 - val_loss: 2.3037 - val_accuracy: 0.1000\n",
            "Epoch 2/30\n",
            "100/100 [==============================] - 3s 27ms/step - loss: 2.3032 - accuracy: 0.0988 - val_loss: 2.3034 - val_accuracy: 0.1000\n",
            "Epoch 3/30\n",
            "100/100 [==============================] - 3s 28ms/step - loss: 2.3035 - accuracy: 0.1044 - val_loss: 2.3027 - val_accuracy: 0.1000\n",
            "Epoch 4/30\n",
            "100/100 [==============================] - 3s 28ms/step - loss: 2.3034 - accuracy: 0.0981 - val_loss: 2.3027 - val_accuracy: 0.1000\n",
            "Epoch 5/30\n",
            "100/100 [==============================] - 3s 28ms/step - loss: 2.3032 - accuracy: 0.1009 - val_loss: 2.3027 - val_accuracy: 0.1000\n",
            "Epoch 6/30\n",
            "100/100 [==============================] - 3s 28ms/step - loss: 2.3023 - accuracy: 0.1150 - val_loss: 2.3029 - val_accuracy: 0.1000\n",
            "Epoch 7/30\n",
            "100/100 [==============================] - 3s 28ms/step - loss: 2.3036 - accuracy: 0.0941 - val_loss: 2.3027 - val_accuracy: 0.1000\n",
            "Epoch 8/30\n",
            "100/100 [==============================] - 3s 28ms/step - loss: 2.3025 - accuracy: 0.1091 - val_loss: 2.3028 - val_accuracy: 0.1000\n",
            "Epoch 9/30\n",
            "100/100 [==============================] - 3s 28ms/step - loss: 2.3029 - accuracy: 0.1034 - val_loss: 2.3028 - val_accuracy: 0.1000\n",
            "Epoch 10/30\n",
            "100/100 [==============================] - 3s 28ms/step - loss: 2.3031 - accuracy: 0.1037 - val_loss: 2.3027 - val_accuracy: 0.1000\n",
            "Epoch 11/30\n",
            "100/100 [==============================] - 3s 28ms/step - loss: 2.3028 - accuracy: 0.0972 - val_loss: 2.3027 - val_accuracy: 0.1000\n",
            "Epoch 12/30\n",
            "100/100 [==============================] - 3s 28ms/step - loss: 2.3025 - accuracy: 0.1056 - val_loss: 2.3027 - val_accuracy: 0.1000\n",
            "Epoch 13/30\n",
            "100/100 [==============================] - 3s 28ms/step - loss: 2.3030 - accuracy: 0.0878 - val_loss: 2.3027 - val_accuracy: 0.1000\n",
            "Epoch 14/30\n",
            "100/100 [==============================] - 3s 28ms/step - loss: 2.3026 - accuracy: 0.1069 - val_loss: 2.3027 - val_accuracy: 0.1000\n",
            "Epoch 15/30\n",
            "100/100 [==============================] - 3s 28ms/step - loss: 2.3031 - accuracy: 0.0981 - val_loss: 2.3027 - val_accuracy: 0.1000\n",
            "Epoch 16/30\n",
            "100/100 [==============================] - 3s 28ms/step - loss: 2.3028 - accuracy: 0.0927 - val_loss: 2.3026 - val_accuracy: 0.1000\n",
            "Epoch 17/30\n",
            "100/100 [==============================] - 3s 28ms/step - loss: 2.3025 - accuracy: 0.0962 - val_loss: 2.3027 - val_accuracy: 0.1000\n",
            "Epoch 18/30\n",
            "100/100 [==============================] - 3s 28ms/step - loss: 2.3030 - accuracy: 0.0975 - val_loss: 2.3027 - val_accuracy: 0.1000\n",
            "Epoch 19/30\n",
            "100/100 [==============================] - 3s 28ms/step - loss: 2.3025 - accuracy: 0.1013 - val_loss: 2.3027 - val_accuracy: 0.1000\n",
            "Epoch 20/30\n",
            "100/100 [==============================] - 3s 27ms/step - loss: 2.3027 - accuracy: 0.1028 - val_loss: 2.3027 - val_accuracy: 0.1000\n",
            "Epoch 21/30\n",
            "100/100 [==============================] - 3s 28ms/step - loss: 2.3028 - accuracy: 0.1013 - val_loss: 2.3027 - val_accuracy: 0.1000\n",
            "Epoch 22/30\n",
            "100/100 [==============================] - 3s 28ms/step - loss: 2.3032 - accuracy: 0.0950 - val_loss: 2.3027 - val_accuracy: 0.1000\n",
            "Epoch 23/30\n",
            "100/100 [==============================] - 3s 27ms/step - loss: 2.3031 - accuracy: 0.0988 - val_loss: 2.3026 - val_accuracy: 0.1000\n",
            "Epoch 24/30\n",
            "100/100 [==============================] - 3s 27ms/step - loss: 2.3027 - accuracy: 0.0988 - val_loss: 2.3026 - val_accuracy: 0.1000\n",
            "Epoch 25/30\n",
            "100/100 [==============================] - 3s 28ms/step - loss: 2.3026 - accuracy: 0.0991 - val_loss: 2.3027 - val_accuracy: 0.1000\n",
            "Epoch 26/30\n",
            "100/100 [==============================] - 3s 28ms/step - loss: 2.3028 - accuracy: 0.1016 - val_loss: 2.3027 - val_accuracy: 0.1000\n",
            "Epoch 27/30\n",
            "100/100 [==============================] - 3s 28ms/step - loss: 2.3027 - accuracy: 0.0925 - val_loss: 2.3027 - val_accuracy: 0.1000\n",
            "Epoch 28/30\n",
            "100/100 [==============================] - 3s 27ms/step - loss: 2.3033 - accuracy: 0.0913 - val_loss: 2.3026 - val_accuracy: 0.1000\n",
            "Epoch 29/30\n",
            "100/100 [==============================] - 3s 28ms/step - loss: 2.3028 - accuracy: 0.0991 - val_loss: 2.3026 - val_accuracy: 0.1000\n",
            "Epoch 30/30\n",
            "100/100 [==============================] - 3s 27ms/step - loss: 2.3026 - accuracy: 0.0931 - val_loss: 2.3027 - val_accuracy: 0.1000\n"
          ],
          "name": "stdout"
        },
        {
          "output_type": "execute_result",
          "data": {
            "text/plain": [
              "<tensorflow.python.keras.callbacks.History at 0x7f3720025550>"
            ]
          },
          "metadata": {
            "tags": []
          },
          "execution_count": 9
        }
      ]
    }
  ]
}